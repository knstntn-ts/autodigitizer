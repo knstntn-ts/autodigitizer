{
  "nbformat": 4,
  "nbformat_minor": 0,
  "metadata": {
    "colab": {
      "name": "Reproducing image - clean",
      "provenance": [],
      "collapsed_sections": [],
      "authorship_tag": "ABX9TyNc73Fgw+S6ZaXDbn0TQWSn",
      "include_colab_link": true
    },
    "kernelspec": {
      "name": "python3",
      "display_name": "Python 3"
    },
    "language_info": {
      "name": "python"
    }
  },
  "cells": [
    {
      "cell_type": "markdown",
      "metadata": {
        "id": "view-in-github",
        "colab_type": "text"
      },
      "source": [
        "<a href=\"https://colab.research.google.com/github/knstntn-ts/autodigitizer/blob/main/Reproducing_image_clean.ipynb\" target=\"_parent\"><img src=\"https://colab.research.google.com/assets/colab-badge.svg\" alt=\"Open In Colab\"/></a>"
      ]
    },
    {
      "cell_type": "code",
      "source": [
        "# !sudo apt install tesseract-ocr\n",
        "# # # \n",
        "# !pip install pytesseract\n",
        "# !pip install Pillow==9.0.0\n",
        "# !pip install -U pillow"
      ],
      "metadata": {
        "id": "LwnJTTo8sLWX"
      },
      "execution_count": null,
      "outputs": []
    },
    {
      "cell_type": "code",
      "source": [
        "import cv2\n",
        "import numpy as np\n",
        "import pandas as pd\n",
        "import sys\n",
        "import matplotlib.pyplot as plt\n",
        "from google.colab.patches import cv2_imshow\n",
        "from matplotlib import colors\n",
        "from cycler import cycler\n",
        "import pytesseract\n",
        "from pytesseract import Output"
      ],
      "metadata": {
        "id": "vqQ4_ZA1oWmj"
      },
      "execution_count": null,
      "outputs": []
    },
    {
      "cell_type": "code",
      "execution_count": null,
      "metadata": {
        "id": "Jiqt48BooMH2"
      },
      "outputs": [],
      "source": [
        "NUM_COLORS = 2 # colors of the lines in the graph\n",
        "\n",
        "image_in = cv2.imread('2_simple.png')\n",
        "image_grey = cv2.cvtColor(image_in, cv2.COLOR_BGR2GRAY)\n",
        "image_binary = cv2.adaptiveThreshold(image_grey, maxValue=255,\n",
        "                                                  adaptiveMethod=cv2.ADAPTIVE_THRESH_GAUSSIAN_C,\n",
        "                                                  thresholdType=cv2.THRESH_BINARY_INV, blockSize=11, C=2)"
      ]
    },
    {
      "cell_type": "code",
      "source": [
        "contours = cv2.findContours(image_binary, cv2.RETR_EXTERNAL, cv2.CHAIN_APPROX_SIMPLE)\n",
        "contours = contours[0] if len(contours) == 2 else contours[1]\n",
        "print(f\"Found {len(contours)} contours.\")\n",
        "area_contours = [cv2.contourArea(cnt) for cnt in contours]\n",
        "\n",
        "print(f\"From these contours the largest has and area of {max(area_contours)}. Choosing it as the borders \"\n",
        "              f\"of the graph.\")\n",
        "\n",
        "graph_borders = contours[np.argmax(area_contours):np.argmax(area_contours)+1]\n",
        "# print(np.argmax(area_contours), np.argmax(area_contours)+1)\n",
        "# graph_borders = contours[20:21]\n",
        "border_frame = np.zeros(image_binary.shape)\n",
        "_ = cv2.drawContours(border_frame, graph_borders, -1, 255, 5)\n",
        "border_frame_filled = np.zeros(image_binary.shape)\n",
        "_ = cv2.drawContours(border_frame_filled, graph_borders, -1, 255, -1)\n",
        "data_region = np.zeros(image_binary.shape)\n",
        "cv2.drawContours(data_region, graph_borders, -1, 255, -1)\n",
        "data_region = cv2.bitwise_and(data_region.astype(np.uint8), image_binary.astype(np.uint8))\n",
        "cv2_imshow(data_region)"
      ],
      "metadata": {
        "colab": {
          "base_uri": "https://localhost:8080/",
          "height": 652
        },
        "id": "OOIENh0zol3j",
        "outputId": "186ade2d-682d-4e93-ccfb-203dcd71505f"
      },
      "execution_count": null,
      "outputs": [
        {
          "output_type": "stream",
          "name": "stdout",
          "text": [
            "Found 89 contours.\n",
            "From these contours the largest has and area of 305040.0. Choosing it as the borders of the graph.\n"
          ]
        },
        {
          "output_type": "display_data",
          "data": {
            "text/plain": [
              "<PIL.Image.Image image mode=L size=760x600>"
            ],
            "image/png": "[encoded data removed]"
          },
          "metadata": {}
        }
      ]
    },
    {
      "cell_type": "code",
      "source": [
        "# for idy in range(data_region.shape[0]):\n",
        "#   for idx in range(data_region.shape[1]):\n",
        "#     if data_region[idy, idx] > 0:\n",
        "#       left_corner_px = idx\n",
        "#       exit = True\n",
        "#       break\n",
        "#   if exit:\n",
        "#     exit = False\n",
        "#     break\n",
        "\n",
        "\n",
        "def analyze_axis(ref_corner, data_region, axis):\n",
        "  '''Returns positions of ticks with their corresponding lengths.\n",
        "  Output list also contains the line of the axis.\n",
        "  Another output list contains the lenghts of ticks.'''\n",
        "  # 0: for y - axis\n",
        "  # 1: for x - axis\n",
        "  out_axis = []\n",
        "  axis_tick_lengths = []\n",
        "  pointers = [0, 0]\n",
        "\n",
        "  for runner in range(data_region.shape[axis]):\n",
        "    \n",
        "    pointers[axis] = runner\n",
        "    pointers[1-axis] = ref_corner\n",
        "    \n",
        "    if data_region[pointers[0], pointers[1]] > 0:\n",
        "      pos_idx = ref_corner\n",
        "      neg_idx = ref_corner\n",
        "      # for determining the length of the ticks\n",
        "      prev_pix = data_region[pointers[0], pointers[1]]\n",
        "\n",
        "      if axis == 0:\n",
        "        while prev_pix == data_region[pointers[0], pos_idx]:\n",
        "          pos_idx += 1\n",
        "        while prev_pix == data_region[pointers[0], neg_idx]:\n",
        "          neg_idx -= 1\n",
        "      else:\n",
        "        while prev_pix == data_region[pos_idx, pointers[1]]:\n",
        "          pos_idx += 1\n",
        "        while prev_pix == data_region[neg_idx, pointers[1]]:\n",
        "          neg_idx -= 1\n",
        "        \n",
        "    #   # only_data[idy, neg_idx:pos_idx] = 0 # removes the ticks from the image\n",
        "      tick_length = pos_idx - neg_idx - 1 # calculates the length of ticks\n",
        "      axis_tick_lengths.append(tick_length)\n",
        "      out_axis.append([pointers[axis], tick_length])\n",
        "\n",
        "  return out_axis, axis_tick_lengths\n",
        "\n",
        "def identify_ticks(axis_with_lenghts, tick_lenghts_in):\n",
        "  '''Returns the positions of the ticks based on the input tick lenghts and\n",
        "   their positions on the axis'''\n",
        "  tmp = np.array(tick_lenghts_in)\n",
        "  tick_lengths = np.unique(tmp)\n",
        "  prev = []\n",
        "  same_length = []\n",
        "  ticks = []\n",
        "  line_width = min(tick_lengths) + 1\n",
        "  \n",
        "  for id in range(len(axis_with_lenghts)):\n",
        "    if not axis_with_lenghts[id][1] <= line_width:\n",
        "      same_length.append(axis_with_lenghts[id][0])\n",
        "      len_to_app = axis_with_lenghts[id][1]\n",
        "    else:\n",
        "      if same_length:\n",
        "        position = int(np.ceil(np.mean(same_length)))\n",
        "        ticks.append([position, len_to_app])\n",
        "        same_length = []\n",
        "  if len(same_length) > 0:\n",
        "    position = int(np.ceil(np.mean(same_length)))\n",
        "    ticks.append([position, len_to_app])\n",
        "  return ticks\n",
        "\n",
        "def fetch_ticks_on_axes(data_region):\n",
        "  '''Returns the positions of all x_ticks and y_ticks. Note that they need to \n",
        "  be analyzed as bottom left corner may or may not be a useful tick. \"Useful\" here\n",
        "  means that it corresponds to a specific value'''\n",
        "  # data_region.nonzero()[1][0] represents the first non-zero value, i.e. top left corner\n",
        "  # this is of course assuming that the image has been cleaned\n",
        "  y_axis, y_axis_tick_lengths = analyze_axis(data_region.nonzero()[1][0], data_region, 0)\n",
        "  bottom_left = y_axis[-1][0]\n",
        "  x_axis, x_axis_tick_lenghts = analyze_axis(bottom_left, data_region, 1)\n",
        "\n",
        "  y_ticks = identify_ticks(y_axis, y_axis_tick_lengths)\n",
        "  x_ticks = identify_ticks(x_axis, x_axis_tick_lenghts)\n",
        "  \n",
        "  return x_ticks, y_ticks\n",
        "\n",
        "x_ticks, y_ticks = fetch_ticks_on_axes(data_region)\n",
        "print(f'Found {len(x_ticks)} x-ticks and {len(y_ticks)} y-ticks')\n"
      ],
      "metadata": {
        "colab": {
          "base_uri": "https://localhost:8080/"
        },
        "id": "ZT68mo5BJBeN",
        "outputId": "a2ebd0fa-cd7a-419c-d607-2e45435a8ba6"
      },
      "execution_count": null,
      "outputs": [
        {
          "output_type": "stream",
          "name": "stdout",
          "text": [
            "Found 25 x-ticks and 13 y-ticks\n"
          ]
        }
      ]
    },
    {
      "cell_type": "code",
      "source": [
        "def analyze_ticks(ticks_in):\n",
        "  '''Returns the pixel locations of min and max values of an axis.\n",
        "  These are used later to transform the values from the figure'''\n",
        "  # Calculate the distance between each tick. In a linear plot, these differences should be more or less same\n",
        "  # However, 'ticks' contains corner positions. If the distance between the corner and first tick is not the same as\n",
        "  # average of the distances then it cannot be used as a first tick. (Means that there is no corresponding value on the corner)\n",
        "  ticks = [ticks_in[i] for i in range(len(ticks_in)) if abs(ticks_in[i][1] - min(ticks_in[:][1])) > 2]\n",
        "  # calculate differences\n",
        "  print(ticks)\n",
        "  ticks_diff = [ticks[id+1][0] - ticks[id][0] for id in range(len(ticks)-1)]\n",
        "  print(ticks_diff)\n",
        "  # see if any non-uniform distances are present\n",
        "  outliers = [id for id in range(len(ticks_diff)) if abs(ticks_diff[id] - float(np.mean(ticks_diff[1:-2]))) > 2]\n",
        "  \n",
        "  # check the outliers, if empty then the corner can be considered as the ticks\n",
        "  # check the left corner and tick next to it\n",
        "  if abs(ticks_diff[0] - float(np.mean(ticks_diff[1:-2])) ) >= 2:\n",
        "    px_min = ticks[1][0]\n",
        "  else:\n",
        "    px_min = ticks[0][0]\n",
        "\n",
        "  # check the right corner and tick next to it\n",
        "  if abs(ticks_diff[-1] - float(np.mean(ticks_diff[1:-2])) ) >= 2:\n",
        "    px_max = ticks[-2][0]\n",
        "  else:\n",
        "    px_max = ticks[-1][0]\n",
        "  # if not outliers:\n",
        "  #   px_min = ticks[0][0]\n",
        "  #   px_max = ticks[-1][0]\n",
        "  #   print(f\"The corner can be considered as the tick.\")\n",
        "  # else:\n",
        "  #   print('The corner can not be the tick, therefore assigning next in line')\n",
        "  #   px_min = ticks[1][0]\n",
        "  #   px_max = ticks[-2][0]\n",
        "  return px_min, px_max\n",
        "\n",
        "\n",
        "x_px_min, x_px_max = analyze_ticks(x_ticks)\n",
        "y_px_min, y_px_max = analyze_ticks(y_ticks)\n",
        "print(f\"The x extreme ticks are {x_px_min} and {x_px_max}\")\n",
        "print(f\"The y extreme ticks are {y_px_min} and {y_px_max}\")"
      ],
      "metadata": {
        "id": "uYRpPwK_bFKc",
        "colab": {
          "base_uri": "https://localhost:8080/"
        },
        "outputId": "3bada529-7803-4a03-b4f6-d5395df0d1fa"
      },
      "execution_count": null,
      "outputs": [
        {
          "output_type": "stream",
          "name": "stdout",
          "text": [
            "[[116, 497], [167, 12], [218, 12], [270, 12], [321, 12], [372, 12], [423, 12], [474, 12], [525, 12], [576, 12], [627, 12], [678, 12], [729, 497]]\n",
            "[51, 51, 52, 51, 51, 51, 51, 51, 51, 51, 51, 51]\n",
            "[[28, 616], [111, 12], [193, 12], [275, 11], [357, 11], [440, 12], [522, 616]]\n",
            "[83, 82, 82, 82, 83, 82]\n",
            "The x extreme ticks are 116 and 729\n",
            "The y extreme ticks are 28 and 522\n"
          ]
        }
      ]
    },
    {
      "cell_type": "code",
      "source": [
        "# # take only the data portion of the graph\n",
        "data_only = cv2.bitwise_and(data_region, image_binary) - border_frame\n",
        "data_only[data_only < 0] = 0\n",
        "#### Not necessary for now\n",
        "# ### this code cleans um any stray pixels\n",
        "# kernel1 = np.array([[0, 0, 0],\n",
        "#                     [0, 1, 0],\n",
        "#                     [0, 0, 0]], np.uint8)\n",
        "# kernel2 = np.array([[1, 1, 1],\n",
        "#                     [1, 0, 1],\n",
        "#                     [1, 1, 1]], np.uint8)\n",
        "\n",
        "# data_only_comp = cv2.bitwise_not(data_only)\n",
        "# hitormiss1 = cv2.morphologyEx(data_only, cv2.MORPH_ERODE, kernel1)\n",
        "# hitormiss2 = cv2.morphologyEx(data_only_comp, cv2.MORPH_ERODE, kernel2)\n",
        "# hitormiss = cv2.bitwise_and(hitormiss1, hitormiss2).astype(np.uint8)\n",
        "# hitormiss_comp = cv2.bitwise_not(hitormiss)  # could just use 255-img\n",
        "\n",
        "# data_with_legend = cv2.bitwise_and(data_only, data_only, mask=hitormiss_comp)\n",
        "####\n",
        "\n",
        "\n",
        "\n",
        "## more cleaning\n",
        "## find contours, calculate their length (without the borders, the largest should be attributed to lines)\n",
        "contours = cv2.findContours(data_only.astype(np.uint8), cv2.RETR_EXTERNAL, cv2.CHAIN_APPROX_SIMPLE)\n",
        "contours = contours[0] if len(contours) == 2 else contours[1]\n",
        "# print(f\"Found {len(contours)} contours.\")\n",
        "length_contours = [cv2.arcLength(cnt, closed=True) for cnt in contours]\n",
        "legend_frame = np.zeros(image_binary.shape)\n",
        "\n",
        "## sort according to arclengths\n",
        "sorted_args = np.argsort(length_contours)\n",
        "contours_sorted = []\n",
        "for i in range(len(contours)):\n",
        "  contours_sorted.append(contours[sorted_args[i]])\n",
        "\n",
        "## choose the largest ones to represent the curves\n",
        "legend_borders = contours_sorted[-1:]\n",
        "_ = cv2.drawContours(legend_frame, legend_borders, -1, 255, -1)\n",
        "\n",
        "## choose only data portion\n",
        "data = cv2.bitwise_and(data_only, legend_frame)\n",
        "data[data < 255] = 0\n",
        "cv2_imshow(data)\n"
      ],
      "metadata": {
        "id": "T10hHPphUVBm",
        "colab": {
          "base_uri": "https://localhost:8080/",
          "height": 617
        },
        "outputId": "a4b2ab9a-a321-4eed-f40d-e28210fb1f92"
      },
      "execution_count": null,
      "outputs": [
        {
          "output_type": "display_data",
          "data": {
            "text/plain": [
              "<PIL.Image.Image image mode=L size=760x600>"
            ],
            "image/png": "[encoded data removed]"
          },
          "metadata": {}
        }
      ]
    },
    {
      "cell_type": "code",
      "source": [
        "#### Color segmentation. To separate the curves in the figure\n",
        "### Requires knowing how many colors are there\n",
        "# Initiate necessary variables and reshape them for K-means algorithm\n",
        "temp = np.zeros(image_in.shape)\n",
        "img_v2 = image_in.copy()\n",
        "img_v2[img_v2==[0,0,0]] = img_v2[img_v2==[0,0,0]] + 10\n",
        "\n",
        "for layer in range(image_in.shape[2]):\n",
        "  temp[:,:,layer] = cv2.bitwise_and(data.astype(np.uint8), img_v2[:,:,layer].astype(np.uint8))\n",
        "\n",
        "temp[temp<0] = 0\n",
        "temp[temp>0] = 255\n",
        "\n",
        "img = cv2.bitwise_and(img_v2, temp.astype(np.uint8))\n",
        "Z = np.float32(img.reshape((-1,3)))\n",
        "\n",
        "criteria = (cv2.TERM_CRITERIA_EPS + cv2.TERM_CRITERIA_MAX_ITER, 10, 1.0)\n",
        "# Input how many colors there are in the image. Includes background color\n",
        "K = NUM_COLORS + 1\n",
        "_,labels,centers = cv2.kmeans(Z, K, None, criteria, 10, cv2.KMEANS_RANDOM_CENTERS)\n",
        "labels = labels.reshape((img.shape[:-1]))\n",
        "result = []\n",
        "\n",
        "for i, c in enumerate(centers):\n",
        "    mask = cv2.inRange(labels, i, i)\n",
        "    result.append(mask)\n",
        "    \n",
        "\n",
        "\n",
        "white_px_percent = []\n",
        "# Calculate the fraction of the white pixels in the image.\n",
        "# Assume also that white pixels are background so will not treat them as data\n",
        "for img in result:\n",
        "  img[img>0] = 255\n",
        "  white_px_percent.append((len(img[img > 0])/(img.shape[0]*img.shape[1])))\n",
        "\n",
        "  # The largest segmented color is white. So treating it as a background and\n",
        "  # save other results as data lines\n",
        "  data_sep = []\n",
        "  for perc in white_px_percent:\n",
        "    if perc != max(white_px_percent):\n",
        "      data_sep.append(result[white_px_percent.index(perc)])\n"
      ],
      "metadata": {
        "id": "7xDt5jCsZDvL"
      },
      "execution_count": null,
      "outputs": []
    },
    {
      "cell_type": "code",
      "source": [
        "print(f'Separated {len(data_sep)} colored curves.')\n",
        "cv2_imshow(data_sep[0])\n",
        "cv2_imshow(data_sep[1])"
      ],
      "metadata": {
        "id": "ejfcqMNcuVfI",
        "colab": {
          "base_uri": "https://localhost:8080/",
          "height": 1000
        },
        "outputId": "f2503a08-5337-4ea8-8be7-8c59ca2d8df7"
      },
      "execution_count": null,
      "outputs": [
        {
          "output_type": "stream",
          "name": "stdout",
          "text": [
            "Separated 2 colored curves.\n"
          ]
        },
        {
          "output_type": "display_data",
          "data": {
            "text/plain": [
              "<PIL.Image.Image image mode=L size=760x600>"
            ],
            "image/png": "[encoded data removed]"
          },
          "metadata": {}
        },
        {
          "output_type": "display_data",
          "data": {
            "text/plain": [
              "<PIL.Image.Image image mode=L size=760x600>"
            ],
            "image/png": "[encoded data removed]"
          },
          "metadata": {}
        }
      ]
    },
    {
      "cell_type": "code",
      "source": [
        "results  = pytesseract.image_to_data(image_in, output_type=Output.DICT)\n",
        "# loop over each of the individual text localizations\n",
        "for i in range(0, len(results[\"text\"])):\n",
        "# extract the bounding box coordinates of the text region from\n",
        "# the current result\n",
        "  # extract the OCR text itself along with the confidence of the\n",
        "  # text localization\n",
        "  text = results[\"text\"][i]\n",
        "  conf = int(results[\"conf\"][i])\n",
        "\n",
        "  if conf > 0:\n",
        "    x = results[\"left\"][i]\n",
        "    y = results[\"top\"][i]\n",
        "    w = results[\"width\"][i]\n",
        "    h = results[\"height\"][i]\n",
        "\n",
        "    text = str(x)\n",
        "\n",
        "    cv2.rectangle(image_grey, (x, y), (x + w, y + h), (0, 255, 0), 2)\n",
        "    cv2.putText(image_grey, text, (x, y - 10), cv2.FONT_HERSHEY_SIMPLEX,\n",
        "      1.2, (0, 0, 255), 3)\n",
        "cv2_imshow(image_grey)\n",
        "\n",
        "text_df = pd.DataFrame(results)\n",
        "text_df.drop(['page_num', 'block_num', 'par_num', 'line_num', 'word_num', 'level',\n",
        "              'width', 'height'], inplace=True, axis=1)\n",
        "text_df['conf'] = text_df['conf'].astype(int)\n",
        "text_df = text_df.loc[text_df.conf > 0]\n",
        "text_df['text'] = pd.to_numeric(text_df['text'], errors='coerce')\n",
        "text_df.dropna(inplace=True)\n",
        "\n",
        "y_labels = text_df[abs(text_df.left.iat[0] - text_df.left) < 10]\n",
        "x_labels =  text_df[(abs(text_df.left.iat[0] - text_df.left) >= 10)]\n",
        "\n",
        "x_min = x_labels.text.iat[0]\n",
        "x_max = x_labels.text.iat[-1]\n",
        "y_min = y_labels.text.iat[-1]\n",
        "y_max = y_labels.text.iat[0]\n",
        "print(f\"x min: {x_min}, x max: {x_max}, y min: {y_min}, y max: {y_max}\")"
      ],
      "metadata": {
        "id": "GYOYGEnJT_w0",
        "colab": {
          "base_uri": "https://localhost:8080/",
          "height": 634
        },
        "outputId": "9d741a59-b661-490e-a62d-26ad1de28318"
      },
      "execution_count": null,
      "outputs": [
        {
          "output_type": "display_data",
          "data": {
            "text/plain": [
              "<PIL.Image.Image image mode=L size=760x600>"
            ],
            "image/png": "[encoded data removed]"
          },
          "metadata": {}
        },
        {
          "output_type": "stream",
          "name": "stdout",
          "text": [
            "x min: 154.0, x max: 178.0, y min: 2000.0, y max: 5000.0\n"
          ]
        }
      ]
    },
    {
      "cell_type": "code",
      "source": [
        "all_curves = []\n",
        "\n",
        "for data_curve in data_sep:\n",
        "  curve = []\n",
        "  locations = []\n",
        "  for idx in range(data_curve.shape[1]):\n",
        "    locations = np.nonzero(data_curve[:,idx])[0]\n",
        "    if locations.any():\n",
        "      curve.append([idx, int(np.ceil(locations.mean()))])\n",
        "  all_curves.append(curve)\n",
        "print(f\"Recorded the pixel locations along the y-axis of the curves\")"
      ],
      "metadata": {
        "id": "DAfmKp-EUTas",
        "colab": {
          "base_uri": "https://localhost:8080/"
        },
        "outputId": "694a286b-929f-4298-e9c0-3c8926d41939"
      },
      "execution_count": null,
      "outputs": [
        {
          "output_type": "stream",
          "name": "stdout",
          "text": [
            "Recorded the pixel locations along the y-axis of the curves\n"
          ]
        }
      ]
    },
    {
      "cell_type": "code",
      "source": [
        "def linear_axis_transform(xmax, xmin, ymax, ymin, px):\n",
        "    slope = (ymax-ymin)/(xmax-xmin)\n",
        "    intercept = ymax - slope*xmax\n",
        "    return intercept + slope*px\n",
        "x_all = []\n",
        "y_all = []\n",
        "\n",
        "# x_min = -0.2\n",
        "# x_max = 1\n",
        "# y_min = 0\n",
        "# y_max = 35\n",
        "for curve in all_curves:\n",
        "  xdata = []\n",
        "  ydata = []\n",
        "  for coord in curve:\n",
        "    xdata.append(linear_axis_transform(xmax=x_px_max, xmin=x_px_min, ymax=x_max, ymin=x_min, px=coord[0]) )\n",
        "    ydata.append(linear_axis_transform(xmax=y_px_min, xmin=y_px_max, ymax=y_max, ymin=y_min, px=coord[1]) )\n",
        "  x_all.append(xdata)\n",
        "  y_all.append(ydata)\n",
        "  # reproduced_data = pd.DataFrame({\"X\": xdata,\n",
        "                                  # \"Y\": ydata})\n"
      ],
      "metadata": {
        "id": "N4EfXGEZT_rG"
      },
      "execution_count": null,
      "outputs": []
    },
    {
      "cell_type": "code",
      "source": [
        "fig, ax = plt.subplots(figsize=(12, 8))\n",
        "for i in range(len(x_all)):\n",
        "  ax.plot(x_all[i], y_all[i])\n",
        "ax.set_ylim([y_min, y_max])\n",
        "ax.set_xlim([x_min, x_max])"
      ],
      "metadata": {
        "id": "WyXzjPnm3mzn",
        "colab": {
          "base_uri": "https://localhost:8080/",
          "height": 504
        },
        "outputId": "b7dfa3c0-051c-46ad-8388-67d52e2c610e"
      },
      "execution_count": null,
      "outputs": [
        {
          "output_type": "execute_result",
          "data": {
            "text/plain": [
              "(154.0, 178.0)"
            ]
          },
          "metadata": {},
          "execution_count": 13
        },
        {
          "output_type": "display_data",
          "data": {
            "text/plain": [
              "<Figure size 864x576 with 1 Axes>"
            ],
            "image/png": "[encoded data removed]"
          },
          "metadata": {
            "needs_background": "light"
          }
        }
      ]
    },
    {
      "cell_type": "code",
      "source": [
        "to_df = {'X data': xdata, 'Y data': ydata}\n",
        "df = pd.DataFrame(to_df)"
      ],
      "metadata": {
        "id": "erRdMSIM6P2-"
      },
      "execution_count": null,
      "outputs": []
    },
    {
      "cell_type": "code",
      "source": [
        "df"
      ],
      "metadata": {
        "colab": {
          "base_uri": "https://localhost:8080/",
          "height": 424
        },
        "id": "7-458lZG8jAl",
        "outputId": "ef448937-59e9-4f1a-fb05-240262ed92e8"
      },
      "execution_count": null,
      "outputs": [
        {
          "output_type": "execute_result",
          "data": {
            "text/plain": [
              "         X data       Y data\n",
              "0    155.252855  2400.809717\n",
              "1    155.292007  2400.809717\n",
              "2    155.331158  2394.736842\n",
              "3    155.370310  2388.663968\n",
              "4    155.409462  2376.518219\n",
              "..          ...          ...\n",
              "510  175.220228  2953.441296\n",
              "511  175.259380  2947.368421\n",
              "512  175.298532  2947.368421\n",
              "513  175.337684  2947.368421\n",
              "514  175.376835  2947.368421\n",
              "\n",
              "[515 rows x 2 columns]"
            ],
            "text/html": [
              "\n",
              "  <div id=\"df-ec803666-63f1-40af-9c11-e4d9aee17ba5\">\n",
              "    <div class=\"colab-df-container\">\n",
              "      <div>\n",
              "<style scoped>\n",
              "    .dataframe tbody tr th:only-of-type {\n",
              "        vertical-align: middle;\n",
              "    }\n",
              "\n",
              "    .dataframe tbody tr th {\n",
              "        vertical-align: top;\n",
              "    }\n",
              "\n",
              "    .dataframe thead th {\n",
              "        text-align: right;\n",
              "    }\n",
              "</style>\n",
              "<table border=\"1\" class=\"dataframe\">\n",
              "  <thead>\n",
              "    <tr style=\"text-align: right;\">\n",
              "      <th></th>\n",
              "      <th>X data</th>\n",
              "      <th>Y data</th>\n",
              "    </tr>\n",
              "  </thead>\n",
              "  <tbody>\n",
              "    <tr>\n",
              "      <th>0</th>\n",
              "      <td>155.252855</td>\n",
              "      <td>2400.809717</td>\n",
              "    </tr>\n",
              "    <tr>\n",
              "      <th>1</th>\n",
              "      <td>155.292007</td>\n",
              "      <td>2400.809717</td>\n",
              "    </tr>\n",
              "    <tr>\n",
              "      <th>2</th>\n",
              "      <td>155.331158</td>\n",
              "      <td>2394.736842</td>\n",
              "    </tr>\n",
              "    <tr>\n",
              "      <th>3</th>\n",
              "      <td>155.370310</td>\n",
              "      <td>2388.663968</td>\n",
              "    </tr>\n",
              "    <tr>\n",
              "      <th>4</th>\n",
              "      <td>155.409462</td>\n",
              "      <td>2376.518219</td>\n",
              "    </tr>\n",
              "    <tr>\n",
              "      <th>...</th>\n",
              "      <td>...</td>\n",
              "      <td>...</td>\n",
              "    </tr>\n",
              "    <tr>\n",
              "      <th>510</th>\n",
              "      <td>175.220228</td>\n",
              "      <td>2953.441296</td>\n",
              "    </tr>\n",
              "    <tr>\n",
              "      <th>511</th>\n",
              "      <td>175.259380</td>\n",
              "      <td>2947.368421</td>\n",
              "    </tr>\n",
              "    <tr>\n",
              "      <th>512</th>\n",
              "      <td>175.298532</td>\n",
              "      <td>2947.368421</td>\n",
              "    </tr>\n",
              "    <tr>\n",
              "      <th>513</th>\n",
              "      <td>175.337684</td>\n",
              "      <td>2947.368421</td>\n",
              "    </tr>\n",
              "    <tr>\n",
              "      <th>514</th>\n",
              "      <td>175.376835</td>\n",
              "      <td>2947.368421</td>\n",
              "    </tr>\n",
              "  </tbody>\n",
              "</table>\n",
              "<p>515 rows × 2 columns</p>\n",
              "</div>\n",
              "      <button class=\"colab-df-convert\" onclick=\"convertToInteractive('df-ec803666-63f1-40af-9c11-e4d9aee17ba5')\"\n",
              "              title=\"Convert this dataframe to an interactive table.\"\n",
              "              style=\"display:none;\">\n",
              "        \n",
              "  <svg xmlns=\"http://www.w3.org/2000/svg\" height=\"24px\"viewBox=\"0 0 24 24\"\n",
              "       width=\"24px\">\n",
              "    <path d=\"M0 0h24v24H0V0z\" fill=\"none\"/>\n",
              "    <path d=\"M18.56 5.44l.94 2.06.94-2.06 2.06-.94-2.06-.94-.94-2.06-.94 2.06-2.06.94zm-11 1L8.5 8.5l.94-2.06 2.06-.94-2.06-.94L8.5 2.5l-.94 2.06-2.06.94zm10 10l.94 2.06.94-2.06 2.06-.94-2.06-.94-.94-2.06-.94 2.06-2.06.94z\"/><path d=\"M17.41 7.96l-1.37-1.37c-.4-.4-.92-.59-1.43-.59-.52 0-1.04.2-1.43.59L10.3 9.45l-7.72 7.72c-.78.78-.78 2.05 0 2.83L4 21.41c.39.39.9.59 1.41.59.51 0 1.02-.2 1.41-.59l7.78-7.78 2.81-2.81c.8-.78.8-2.07 0-2.86zM5.41 20L4 18.59l7.72-7.72 1.47 1.35L5.41 20z\"/>\n",
              "  </svg>\n",
              "      </button>\n",
              "      \n",
              "  <style>\n",
              "    .colab-df-container {\n",
              "      display:flex;\n",
              "      flex-wrap:wrap;\n",
              "      gap: 12px;\n",
              "    }\n",
              "\n",
              "    .colab-df-convert {\n",
              "      background-color: #E8F0FE;\n",
              "      border: none;\n",
              "      border-radius: 50%;\n",
              "      cursor: pointer;\n",
              "      display: none;\n",
              "      fill: #1967D2;\n",
              "      height: 32px;\n",
              "      padding: 0 0 0 0;\n",
              "      width: 32px;\n",
              "    }\n",
              "\n",
              "    .colab-df-convert:hover {\n",
              "      background-color: #E2EBFA;\n",
              "      box-shadow: 0px 1px 2px rgba(60, 64, 67, 0.3), 0px 1px 3px 1px rgba(60, 64, 67, 0.15);\n",
              "      fill: #174EA6;\n",
              "    }\n",
              "\n",
              "    [theme=dark] .colab-df-convert {\n",
              "      background-color: #3B4455;\n",
              "      fill: #D2E3FC;\n",
              "    }\n",
              "\n",
              "    [theme=dark] .colab-df-convert:hover {\n",
              "      background-color: #434B5C;\n",
              "      box-shadow: 0px 1px 3px 1px rgba(0, 0, 0, 0.15);\n",
              "      filter: drop-shadow(0px 1px 2px rgba(0, 0, 0, 0.3));\n",
              "      fill: #FFFFFF;\n",
              "    }\n",
              "  </style>\n",
              "\n",
              "      <script>\n",
              "        const buttonEl =\n",
              "          document.querySelector('#df-ec803666-63f1-40af-9c11-e4d9aee17ba5 button.colab-df-convert');\n",
              "        buttonEl.style.display =\n",
              "          google.colab.kernel.accessAllowed ? 'block' : 'none';\n",
              "\n",
              "        async function convertToInteractive(key) {\n",
              "          const element = document.querySelector('#df-ec803666-63f1-40af-9c11-e4d9aee17ba5');\n",
              "          const dataTable =\n",
              "            await google.colab.kernel.invokeFunction('convertToInteractive',\n",
              "                                                     [key], {});\n",
              "          if (!dataTable) return;\n",
              "\n",
              "          const docLinkHtml = 'Like what you see? Visit the ' +\n",
              "            '<a target=\"_blank\" href=https://colab.research.google.com/notebooks/data_table.ipynb>data table notebook</a>'\n",
              "            + ' to learn more about interactive tables.';\n",
              "          element.innerHTML = '';\n",
              "          dataTable['output_type'] = 'display_data';\n",
              "          await google.colab.output.renderOutput(dataTable, element);\n",
              "          const docLink = document.createElement('div');\n",
              "          docLink.innerHTML = docLinkHtml;\n",
              "          element.appendChild(docLink);\n",
              "        }\n",
              "      </script>\n",
              "    </div>\n",
              "  </div>\n",
              "  "
            ]
          },
          "metadata": {},
          "execution_count": 22
        }
      ]
    },
    {
      "cell_type": "code",
      "source": [
        ""
      ],
      "metadata": {
        "id": "Wq71Idh68_LE"
      },
      "execution_count": null,
      "outputs": []
    }
  ]
}